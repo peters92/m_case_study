{
 "cells": [
  {
   "cell_type": "code",
   "execution_count": 2,
   "metadata": {},
   "outputs": [],
   "source": [
    "# Imports\n",
    "import numpy as np\n",
    "import pandas as pd\n",
    "from matplotlib import pyplot as plt"
   ]
  },
  {
   "cell_type": "code",
   "execution_count": 58,
   "metadata": {},
   "outputs": [],
   "source": [
    "# Reading data\n",
    "data_pd = pd.read_csv('data/Avocado.csv')\n",
    "\n",
    "# Cleaning up region names to avoid duplicates\n",
    "data_pd['region'] = (data_pd['region'].str.replace('/', '')\n",
    "                                      .str.replace(' ', '')\n",
    "                                      .str.replace('.', ''))"
   ]
  },
  {
   "attachments": {},
   "cell_type": "markdown",
   "metadata": {},
   "source": [
    "# Ideas to explore\n",
    "- Estimating the price elasticity of demand for avocados\n",
    "- Demand forecasting\n",
    "- Apply double machine learning (EconML or CausalML) to perform the above two\n",
    "- Given external data with unit costs of avocado over the timeframe, can we describe the optimal price and optimize for the future?\n",
    "- Round number effect?"
   ]
  },
  {
   "attachments": {},
   "cell_type": "markdown",
   "metadata": {},
   "source": [
    "## Data processing"
   ]
  },
  {
   "cell_type": "code",
   "execution_count": 59,
   "metadata": {},
   "outputs": [],
   "source": [
    "# Convert date and sort the table by it\n",
    "data_pd['Date'] = pd.to_datetime(data_pd['Date'])\n",
    "data_pd = data_pd.sort_values(by='Date', ascending=True)"
   ]
  },
  {
   "cell_type": "code",
   "execution_count": 80,
   "metadata": {},
   "outputs": [],
   "source": [
    "# Calculate the PED for each region and organic/regular separately\n",
    "def calculate_ped(dataframe):\n",
    "\n",
    "    # Get the percentage difference from row to row in price and volume\n",
    "    dataframe['delta price[%]'] = dataframe['AveragePrice'].pct_change()\n",
    "    dataframe['delta volume[%]'] = dataframe['Total Volume'].pct_change()\n",
    "\n",
    "    # DeltaQ / DeltaP\n",
    "    ped_series = (dataframe['delta volume[%]'] /\n",
    "                        dataframe['delta price[%]'])\n",
    "    \n",
    "    # Get rid of infinite values to allow average calculation\n",
    "    ped_series.replace([np.inf, -np.inf], np.nan, inplace=True)\n",
    "\n",
    "    return ped_series"
   ]
  },
  {
   "cell_type": "code",
   "execution_count": 83,
   "metadata": {},
   "outputs": [],
   "source": [
    "regions = data_pd['region'].unique()\n",
    "ped_dict = {}\n",
    "\n",
    "# Temporarily disable SettingWithCopyWarning\n",
    "pd.options.mode.chained_assignment = None  # default='warn'\n",
    "# For each region, calculate the Price Elasticity of Demand (Volume)\n",
    "for region in regions:\n",
    "    data_region_pd = data_pd[data_pd['region'] == region]\n",
    "\n",
    "    # Calculate for conventional avocado\n",
    "    data_region_pd['ped_conventional'] = (\n",
    "        calculate_ped(data_region_pd[data_region_pd['type'] == 'conventional']))\n",
    "    \n",
    "    # Calculate for organic avocados\n",
    "    data_region_pd['ped_organic'] = (\n",
    "        calculate_ped(data_region_pd[data_region_pd['type'] == 'organic']))\n",
    "    \n",
    "    # Get the mean PED value\n",
    "    ped_conv = data_region_pd['ped_conventional'].mean()\n",
    "    ped_organic = data_region_pd['ped_organic'].mean()\n",
    "\n",
    "    # Store values\n",
    "    ped_dict[region] = {'PED Conventional': ped_conv, 'PED Organic': ped_organic}\n",
    "\n",
    "\n",
    "# Re-enable warning\n",
    "pd.options.mode.chained_assignment = 'warn'  # default='warn'\n",
    "\n",
    "# Convert dict to dataframe\n",
    "ped_df = pd.DataFrame.from_dict(ped_dict, orient='index').reset_index(names='Region')"
   ]
  },
  {
   "cell_type": "code",
   "execution_count": 78,
   "metadata": {},
   "outputs": [],
   "source": [
    "collective_regions = ['TotalUS', 'South', 'Southeast', 'Northeast', 'Midsouth', 'NorthernNewEngland', 'SouthCentral', 'West', 'Plains']\n",
    "\n",
    "# Separate the local values from the collective regions\n",
    "ped_local_df = ped_df[~ped_df['Region'].isin(collective_regions)]\n",
    "ped_regional_df = ped_df[ped_df['Region'].isin(collective_regions)]"
   ]
  },
  {
   "attachments": {},
   "cell_type": "markdown",
   "metadata": {},
   "source": [
    "# Result of basic PED calculation\n",
    "As seen below we get a realistic result of around -1.5 for the separate regions.\n",
    "\n",
    "Practically this means a 1.5% decline in volume when the price increases 1%"
   ]
  },
  {
   "cell_type": "code",
   "execution_count": 76,
   "metadata": {},
   "outputs": [
    {
     "data": {
      "text/plain": [
       "PED Conventional   -1.532641\n",
       "PED Organic        -1.518723\n",
       "dtype: float64"
      ]
     },
     "execution_count": 76,
     "metadata": {},
     "output_type": "execute_result"
    }
   ],
   "source": [
    "ped_local_df.drop(columns=['Region']).mean()"
   ]
  },
  {
   "attachments": {},
   "cell_type": "markdown",
   "metadata": {},
   "source": [
    "The collective regions are more noisy for some reason, especially for conventional avocados. I don't have time to look into it, so from now we will just look at the individual regions"
   ]
  },
  {
   "cell_type": "code",
   "execution_count": 81,
   "metadata": {},
   "outputs": [
    {
     "data": {
      "text/plain": [
       "PED Conventional   -3.234559\n",
       "PED Organic        -1.418591\n",
       "dtype: float64"
      ]
     },
     "execution_count": 81,
     "metadata": {},
     "output_type": "execute_result"
    }
   ],
   "source": [
    "ped_regional_df.drop(columns=['Region']).mean()"
   ]
  },
  {
   "cell_type": "code",
   "execution_count": 82,
   "metadata": {},
   "outputs": [
    {
     "data": {
      "text/html": [
       "<div>\n",
       "<style scoped>\n",
       "    .dataframe tbody tr th:only-of-type {\n",
       "        vertical-align: middle;\n",
       "    }\n",
       "\n",
       "    .dataframe tbody tr th {\n",
       "        vertical-align: top;\n",
       "    }\n",
       "\n",
       "    .dataframe thead th {\n",
       "        text-align: right;\n",
       "    }\n",
       "</style>\n",
       "<table border=\"1\" class=\"dataframe\">\n",
       "  <thead>\n",
       "    <tr style=\"text-align: right;\">\n",
       "      <th></th>\n",
       "      <th>Region</th>\n",
       "      <th>PED Conventional</th>\n",
       "      <th>PED Organic</th>\n",
       "    </tr>\n",
       "  </thead>\n",
       "  <tbody>\n",
       "    <tr>\n",
       "      <th>1</th>\n",
       "      <td>Northeast</td>\n",
       "      <td>6.451289</td>\n",
       "      <td>-2.127297</td>\n",
       "    </tr>\n",
       "    <tr>\n",
       "      <th>6</th>\n",
       "      <td>Midsouth</td>\n",
       "      <td>-2.428041</td>\n",
       "      <td>-2.159980</td>\n",
       "    </tr>\n",
       "    <tr>\n",
       "      <th>11</th>\n",
       "      <td>NorthernNewEngland</td>\n",
       "      <td>-1.815592</td>\n",
       "      <td>-1.109736</td>\n",
       "    </tr>\n",
       "    <tr>\n",
       "      <th>32</th>\n",
       "      <td>Southeast</td>\n",
       "      <td>-5.097503</td>\n",
       "      <td>-1.898865</td>\n",
       "    </tr>\n",
       "    <tr>\n",
       "      <th>33</th>\n",
       "      <td>SouthCentral</td>\n",
       "      <td>-1.217190</td>\n",
       "      <td>-1.088508</td>\n",
       "    </tr>\n",
       "    <tr>\n",
       "      <th>46</th>\n",
       "      <td>Plains</td>\n",
       "      <td>-1.622128</td>\n",
       "      <td>-1.491515</td>\n",
       "    </tr>\n",
       "    <tr>\n",
       "      <th>51</th>\n",
       "      <td>TotalUS</td>\n",
       "      <td>-18.406334</td>\n",
       "      <td>0.444309</td>\n",
       "    </tr>\n",
       "    <tr>\n",
       "      <th>53</th>\n",
       "      <td>West</td>\n",
       "      <td>-1.740973</td>\n",
       "      <td>-1.917137</td>\n",
       "    </tr>\n",
       "  </tbody>\n",
       "</table>\n",
       "</div>"
      ],
      "text/plain": [
       "                Region  PED Conventional  PED Organic\n",
       "1            Northeast          6.451289    -2.127297\n",
       "6             Midsouth         -2.428041    -2.159980\n",
       "11  NorthernNewEngland         -1.815592    -1.109736\n",
       "32           Southeast         -5.097503    -1.898865\n",
       "33        SouthCentral         -1.217190    -1.088508\n",
       "46              Plains         -1.622128    -1.491515\n",
       "51             TotalUS        -18.406334     0.444309\n",
       "53                West         -1.740973    -1.917137"
      ]
     },
     "execution_count": 82,
     "metadata": {},
     "output_type": "execute_result"
    }
   ],
   "source": [
    "ped_regional_df"
   ]
  },
  {
   "cell_type": "code",
   "execution_count": null,
   "metadata": {},
   "outputs": [],
   "source": []
  }
 ],
 "metadata": {
  "kernelspec": {
   "display_name": "pricing",
   "language": "python",
   "name": "python3"
  },
  "language_info": {
   "codemirror_mode": {
    "name": "ipython",
    "version": 3
   },
   "file_extension": ".py",
   "mimetype": "text/x-python",
   "name": "python",
   "nbconvert_exporter": "python",
   "pygments_lexer": "ipython3",
   "version": "3.8.16"
  },
  "orig_nbformat": 4
 },
 "nbformat": 4,
 "nbformat_minor": 2
}
