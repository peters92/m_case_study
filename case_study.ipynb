{
 "cells": [
  {
   "cell_type": "code",
   "execution_count": 106,
   "metadata": {},
   "outputs": [],
   "source": [
    "# Imports\n",
    "import numpy as np\n",
    "import pandas as pd\n",
    "from matplotlib import pyplot as plt"
   ]
  },
  {
   "cell_type": "code",
   "execution_count": 107,
   "metadata": {},
   "outputs": [],
   "source": [
    "# Constants\n",
    "# Average weight of an avocado in pounds\n",
    "AVG_WEIGHT_LB = 0.33"
   ]
  },
  {
   "cell_type": "code",
   "execution_count": 182,
   "metadata": {},
   "outputs": [],
   "source": [
    "# Reading data\n",
    "data_pd = pd.read_csv('data/Avocado.csv')\n",
    "\n",
    "# Cleaning up region names to avoid duplicates\n",
    "data_pd['region'] = (data_pd['region'].str.replace('/', '')\n",
    "                                      .str.replace(' ', '')\n",
    "                                      .str.replace('.', ''))"
   ]
  },
  {
   "cell_type": "code",
   "execution_count": 183,
   "metadata": {},
   "outputs": [
    {
     "data": {
      "text/html": [
       "<div>\n",
       "<style scoped>\n",
       "    .dataframe tbody tr th:only-of-type {\n",
       "        vertical-align: middle;\n",
       "    }\n",
       "\n",
       "    .dataframe tbody tr th {\n",
       "        vertical-align: top;\n",
       "    }\n",
       "\n",
       "    .dataframe thead th {\n",
       "        text-align: right;\n",
       "    }\n",
       "</style>\n",
       "<table border=\"1\" class=\"dataframe\">\n",
       "  <thead>\n",
       "    <tr style=\"text-align: right;\">\n",
       "      <th></th>\n",
       "      <th>AveragePrice</th>\n",
       "    </tr>\n",
       "    <tr>\n",
       "      <th>region</th>\n",
       "      <th></th>\n",
       "    </tr>\n",
       "  </thead>\n",
       "  <tbody>\n",
       "    <tr>\n",
       "      <th>Houston</th>\n",
       "      <td>1.081285</td>\n",
       "    </tr>\n",
       "    <tr>\n",
       "      <th>DallasFtWorth</th>\n",
       "      <td>1.097332</td>\n",
       "    </tr>\n",
       "    <tr>\n",
       "      <th>SouthCentral</th>\n",
       "      <td>1.124387</td>\n",
       "    </tr>\n",
       "    <tr>\n",
       "      <th>PhoenixTucson</th>\n",
       "      <td>1.227925</td>\n",
       "    </tr>\n",
       "    <tr>\n",
       "      <th>Nashville</th>\n",
       "      <td>1.229960</td>\n",
       "    </tr>\n",
       "    <tr>\n",
       "      <th>Columbus</th>\n",
       "      <td>1.243972</td>\n",
       "    </tr>\n",
       "    <tr>\n",
       "      <th>CincinnatiDayton</th>\n",
       "      <td>1.246502</td>\n",
       "    </tr>\n",
       "    <tr>\n",
       "      <th>Roanoke</th>\n",
       "      <td>1.260672</td>\n",
       "    </tr>\n",
       "    <tr>\n",
       "      <th>NewOrleansMobile</th>\n",
       "      <td>1.264526</td>\n",
       "    </tr>\n",
       "    <tr>\n",
       "      <th>RichmondNorfolk</th>\n",
       "      <td>1.270059</td>\n",
       "    </tr>\n",
       "    <tr>\n",
       "      <th>WestTexNewMexico</th>\n",
       "      <td>1.272238</td>\n",
       "    </tr>\n",
       "    <tr>\n",
       "      <th>Detroit</th>\n",
       "      <td>1.272352</td>\n",
       "    </tr>\n",
       "    <tr>\n",
       "      <th>Denver</th>\n",
       "      <td>1.283241</td>\n",
       "    </tr>\n",
       "    <tr>\n",
       "      <th>LosAngeles</th>\n",
       "      <td>1.295138</td>\n",
       "    </tr>\n",
       "    <tr>\n",
       "      <th>Indianapolis</th>\n",
       "      <td>1.295553</td>\n",
       "    </tr>\n",
       "    <tr>\n",
       "      <th>Louisville</th>\n",
       "      <td>1.303004</td>\n",
       "    </tr>\n",
       "    <tr>\n",
       "      <th>Atlanta</th>\n",
       "      <td>1.315237</td>\n",
       "    </tr>\n",
       "    <tr>\n",
       "      <th>GreatLakes</th>\n",
       "      <td>1.326502</td>\n",
       "    </tr>\n",
       "    <tr>\n",
       "      <th>TotalUS</th>\n",
       "      <td>1.331087</td>\n",
       "    </tr>\n",
       "    <tr>\n",
       "      <th>West</th>\n",
       "      <td>1.331462</td>\n",
       "    </tr>\n",
       "    <tr>\n",
       "      <th>Tampa</th>\n",
       "      <td>1.343024</td>\n",
       "    </tr>\n",
       "    <tr>\n",
       "      <th>Pittsburgh</th>\n",
       "      <td>1.360711</td>\n",
       "    </tr>\n",
       "    <tr>\n",
       "      <th>Southeast</th>\n",
       "      <td>1.364150</td>\n",
       "    </tr>\n",
       "    <tr>\n",
       "      <th>MiamiFtLauderdale</th>\n",
       "      <td>1.373300</td>\n",
       "    </tr>\n",
       "    <tr>\n",
       "      <th>SouthCarolina</th>\n",
       "      <td>1.383024</td>\n",
       "    </tr>\n",
       "    <tr>\n",
       "      <th>LasVegas</th>\n",
       "      <td>1.389605</td>\n",
       "    </tr>\n",
       "    <tr>\n",
       "      <th>Plains</th>\n",
       "      <td>1.392984</td>\n",
       "    </tr>\n",
       "    <tr>\n",
       "      <th>Midsouth</th>\n",
       "      <td>1.402510</td>\n",
       "    </tr>\n",
       "    <tr>\n",
       "      <th>Portland</th>\n",
       "      <td>1.408597</td>\n",
       "    </tr>\n",
       "    <tr>\n",
       "      <th>Orlando</th>\n",
       "      <td>1.409545</td>\n",
       "    </tr>\n",
       "    <tr>\n",
       "      <th>HarrisburgScranton</th>\n",
       "      <td>1.429526</td>\n",
       "    </tr>\n",
       "    <tr>\n",
       "      <th>Boise</th>\n",
       "      <td>1.430059</td>\n",
       "    </tr>\n",
       "    <tr>\n",
       "      <th>Jacksonville</th>\n",
       "      <td>1.437648</td>\n",
       "    </tr>\n",
       "    <tr>\n",
       "      <th>BuffaloRochester</th>\n",
       "      <td>1.438913</td>\n",
       "    </tr>\n",
       "    <tr>\n",
       "      <th>StLouis</th>\n",
       "      <td>1.441542</td>\n",
       "    </tr>\n",
       "    <tr>\n",
       "      <th>California</th>\n",
       "      <td>1.445356</td>\n",
       "    </tr>\n",
       "    <tr>\n",
       "      <th>Syracuse</th>\n",
       "      <td>1.450949</td>\n",
       "    </tr>\n",
       "    <tr>\n",
       "      <th>SanDiego</th>\n",
       "      <td>1.451660</td>\n",
       "    </tr>\n",
       "    <tr>\n",
       "      <th>NorthernNewEngland</th>\n",
       "      <td>1.467470</td>\n",
       "    </tr>\n",
       "    <tr>\n",
       "      <th>GrandRapids</th>\n",
       "      <td>1.472154</td>\n",
       "    </tr>\n",
       "    <tr>\n",
       "      <th>Spokane</th>\n",
       "      <td>1.506502</td>\n",
       "    </tr>\n",
       "    <tr>\n",
       "      <th>BaltimoreWashington</th>\n",
       "      <td>1.507253</td>\n",
       "    </tr>\n",
       "    <tr>\n",
       "      <th>Boston</th>\n",
       "      <td>1.520791</td>\n",
       "    </tr>\n",
       "    <tr>\n",
       "      <th>Seattle</th>\n",
       "      <td>1.520810</td>\n",
       "    </tr>\n",
       "    <tr>\n",
       "      <th>Albany</th>\n",
       "      <td>1.529308</td>\n",
       "    </tr>\n",
       "    <tr>\n",
       "      <th>Chicago</th>\n",
       "      <td>1.548142</td>\n",
       "    </tr>\n",
       "    <tr>\n",
       "      <th>Philadelphia</th>\n",
       "      <td>1.556719</td>\n",
       "    </tr>\n",
       "    <tr>\n",
       "      <th>Northeast</th>\n",
       "      <td>1.558399</td>\n",
       "    </tr>\n",
       "    <tr>\n",
       "      <th>RaleighGreensboro</th>\n",
       "      <td>1.577194</td>\n",
       "    </tr>\n",
       "    <tr>\n",
       "      <th>Charlotte</th>\n",
       "      <td>1.588972</td>\n",
       "    </tr>\n",
       "    <tr>\n",
       "      <th>Sacramento</th>\n",
       "      <td>1.607233</td>\n",
       "    </tr>\n",
       "    <tr>\n",
       "      <th>NewYork</th>\n",
       "      <td>1.683834</td>\n",
       "    </tr>\n",
       "    <tr>\n",
       "      <th>HartfordSpringfield</th>\n",
       "      <td>1.772905</td>\n",
       "    </tr>\n",
       "    <tr>\n",
       "      <th>SanFrancisco</th>\n",
       "      <td>1.790672</td>\n",
       "    </tr>\n",
       "  </tbody>\n",
       "</table>\n",
       "</div>"
      ],
      "text/plain": [
       "                     AveragePrice\n",
       "region                           \n",
       "Houston                  1.081285\n",
       "DallasFtWorth            1.097332\n",
       "SouthCentral             1.124387\n",
       "PhoenixTucson            1.227925\n",
       "Nashville                1.229960\n",
       "Columbus                 1.243972\n",
       "CincinnatiDayton         1.246502\n",
       "Roanoke                  1.260672\n",
       "NewOrleansMobile         1.264526\n",
       "RichmondNorfolk          1.270059\n",
       "WestTexNewMexico         1.272238\n",
       "Detroit                  1.272352\n",
       "Denver                   1.283241\n",
       "LosAngeles               1.295138\n",
       "Indianapolis             1.295553\n",
       "Louisville               1.303004\n",
       "Atlanta                  1.315237\n",
       "GreatLakes               1.326502\n",
       "TotalUS                  1.331087\n",
       "West                     1.331462\n",
       "Tampa                    1.343024\n",
       "Pittsburgh               1.360711\n",
       "Southeast                1.364150\n",
       "MiamiFtLauderdale        1.373300\n",
       "SouthCarolina            1.383024\n",
       "LasVegas                 1.389605\n",
       "Plains                   1.392984\n",
       "Midsouth                 1.402510\n",
       "Portland                 1.408597\n",
       "Orlando                  1.409545\n",
       "HarrisburgScranton       1.429526\n",
       "Boise                    1.430059\n",
       "Jacksonville             1.437648\n",
       "BuffaloRochester         1.438913\n",
       "StLouis                  1.441542\n",
       "California               1.445356\n",
       "Syracuse                 1.450949\n",
       "SanDiego                 1.451660\n",
       "NorthernNewEngland       1.467470\n",
       "GrandRapids              1.472154\n",
       "Spokane                  1.506502\n",
       "BaltimoreWashington      1.507253\n",
       "Boston                   1.520791\n",
       "Seattle                  1.520810\n",
       "Albany                   1.529308\n",
       "Chicago                  1.548142\n",
       "Philadelphia             1.556719\n",
       "Northeast                1.558399\n",
       "RaleighGreensboro        1.577194\n",
       "Charlotte                1.588972\n",
       "Sacramento               1.607233\n",
       "NewYork                  1.683834\n",
       "HartfordSpringfield      1.772905\n",
       "SanFrancisco             1.790672"
      ]
     },
     "execution_count": 183,
     "metadata": {},
     "output_type": "execute_result"
    }
   ],
   "source": [
    "data_pd[['region', 'AveragePrice']].groupby('region').mean().sort_values(by='AveragePrice')"
   ]
  },
  {
   "attachments": {},
   "cell_type": "markdown",
   "metadata": {},
   "source": [
    "# Ideas to explore\n",
    "- Estimating the price elasticity of demand for avocados\n",
    "- Demand forecasting\n",
    "- Apply double machine learning (EconML or CausalML) to perform the above two\n",
    "- Given external data with unit costs of avocado over the timeframe, can we describe the optimal price and optimize for the future?\n",
    "- Round number effect?"
   ]
  },
  {
   "attachments": {},
   "cell_type": "markdown",
   "metadata": {},
   "source": [
    "## Data processing\n",
    "Thigns to do:\n",
    "- Date conversion\n",
    "- Adding cost per pound for financial comparisons later"
   ]
  },
  {
   "cell_type": "code",
   "execution_count": 184,
   "metadata": {},
   "outputs": [],
   "source": [
    "# Convert date and sort the table by it\n",
    "data_pd['Date'] = pd.to_datetime(data_pd['Date'])\n",
    "data_pd = data_pd.sort_values(by='Date', ascending=True)\n",
    "\n",
    "# Calculate per pound price from piece price\n",
    "data_pd['avg_price_lb'] = data_pd['AveragePrice'] / AVG_WEIGHT_LB\n",
    "data_pd['volume_lb'] = data_pd['Total Volume'] * AVG_WEIGHT_LB"
   ]
  },
  {
   "cell_type": "code",
   "execution_count": 111,
   "metadata": {},
   "outputs": [],
   "source": [
    "# Calculate the PED for each region and organic/regular separately\n",
    "def calculate_ped(dataframe):\n",
    "\n",
    "    # Get the percentage difference from row to row in price and volume\n",
    "    dataframe['delta price[%]'] = dataframe['AveragePrice'].pct_change()\n",
    "    dataframe['delta volume[%]'] = dataframe['Total Volume'].pct_change()\n",
    "\n",
    "    # DeltaQ / DeltaP\n",
    "    ped_series = (dataframe['delta volume[%]'] /\n",
    "                        dataframe['delta price[%]'])\n",
    "    \n",
    "    # Get rid of infinite values to allow average calculation\n",
    "    ped_series.replace([np.inf, -np.inf], np.nan, inplace=True)\n",
    "\n",
    "    return ped_series"
   ]
  },
  {
   "cell_type": "code",
   "execution_count": 112,
   "metadata": {},
   "outputs": [],
   "source": [
    "regions = data_pd['region'].unique()\n",
    "ped_dict = {}\n",
    "\n",
    "# Temporarily disable SettingWithCopyWarning\n",
    "pd.options.mode.chained_assignment = None  # default='warn'\n",
    "# For each region, calculate the Price Elasticity of Demand (Volume)\n",
    "for region in regions:\n",
    "    data_region_pd = data_pd[data_pd['region'] == region]\n",
    "\n",
    "    # Calculate for conventional avocado\n",
    "    data_region_pd['ped_conventional'] = (\n",
    "        calculate_ped(data_region_pd[data_region_pd['type'] == 'conventional']))\n",
    "    \n",
    "    # Calculate for organic avocados\n",
    "    data_region_pd['ped_organic'] = (\n",
    "        calculate_ped(data_region_pd[data_region_pd['type'] == 'organic']))\n",
    "    \n",
    "    # Get the mean PED value\n",
    "    ped_conv = data_region_pd['ped_conventional'].mean()\n",
    "    ped_organic = data_region_pd['ped_organic'].mean()\n",
    "\n",
    "    # Store values\n",
    "    ped_dict[region] = {'PED Conventional': ped_conv, 'PED Organic': ped_organic}\n",
    "\n",
    "\n",
    "# Re-enable warning\n",
    "pd.options.mode.chained_assignment = 'warn'  # default='warn'\n",
    "\n",
    "# Convert dict to dataframe\n",
    "ped_df = pd.DataFrame.from_dict(ped_dict, orient='index').reset_index(names='Region')"
   ]
  },
  {
   "cell_type": "code",
   "execution_count": 113,
   "metadata": {},
   "outputs": [],
   "source": [
    "collective_regions = ['TotalUS', 'South', 'Southeast', 'Northeast', 'Midsouth', 'NorthernNewEngland', 'SouthCentral', 'West', 'Plains']\n",
    "\n",
    "# Separate the local values from the collective regions\n",
    "ped_local_df = ped_df[~ped_df['Region'].isin(collective_regions)]\n",
    "ped_regional_df = ped_df[ped_df['Region'].isin(collective_regions)]"
   ]
  },
  {
   "attachments": {},
   "cell_type": "markdown",
   "metadata": {},
   "source": [
    "# Result of basic PED calculation\n",
    "As seen below we get a realistic result of around -1.5 for the separate regions.\n",
    "\n",
    "Practically this means a 1.5% decline in volume when the price increases 1%"
   ]
  },
  {
   "cell_type": "code",
   "execution_count": 114,
   "metadata": {},
   "outputs": [
    {
     "data": {
      "text/plain": [
       "PED Conventional   -1.532641\n",
       "PED Organic        -1.518723\n",
       "dtype: float64"
      ]
     },
     "execution_count": 114,
     "metadata": {},
     "output_type": "execute_result"
    }
   ],
   "source": [
    "ped_local_df.drop(columns=['Region']).mean()"
   ]
  },
  {
   "attachments": {},
   "cell_type": "markdown",
   "metadata": {},
   "source": [
    "The collective regions are more noisy for some reason, especially for conventional avocados. I don't have time to look into it, so from now we will just look at the individual regions"
   ]
  },
  {
   "cell_type": "code",
   "execution_count": 115,
   "metadata": {},
   "outputs": [
    {
     "data": {
      "text/plain": [
       "PED Conventional   -3.234559\n",
       "PED Organic        -1.418591\n",
       "dtype: float64"
      ]
     },
     "execution_count": 115,
     "metadata": {},
     "output_type": "execute_result"
    }
   ],
   "source": [
    "ped_regional_df.drop(columns=['Region']).mean()"
   ]
  },
  {
   "cell_type": "code",
   "execution_count": 116,
   "metadata": {},
   "outputs": [
    {
     "data": {
      "text/html": [
       "<div>\n",
       "<style scoped>\n",
       "    .dataframe tbody tr th:only-of-type {\n",
       "        vertical-align: middle;\n",
       "    }\n",
       "\n",
       "    .dataframe tbody tr th {\n",
       "        vertical-align: top;\n",
       "    }\n",
       "\n",
       "    .dataframe thead th {\n",
       "        text-align: right;\n",
       "    }\n",
       "</style>\n",
       "<table border=\"1\" class=\"dataframe\">\n",
       "  <thead>\n",
       "    <tr style=\"text-align: right;\">\n",
       "      <th></th>\n",
       "      <th>Region</th>\n",
       "      <th>PED Conventional</th>\n",
       "      <th>PED Organic</th>\n",
       "    </tr>\n",
       "  </thead>\n",
       "  <tbody>\n",
       "    <tr>\n",
       "      <th>1</th>\n",
       "      <td>Northeast</td>\n",
       "      <td>6.451289</td>\n",
       "      <td>-2.127297</td>\n",
       "    </tr>\n",
       "    <tr>\n",
       "      <th>6</th>\n",
       "      <td>Midsouth</td>\n",
       "      <td>-2.428041</td>\n",
       "      <td>-2.159980</td>\n",
       "    </tr>\n",
       "    <tr>\n",
       "      <th>11</th>\n",
       "      <td>NorthernNewEngland</td>\n",
       "      <td>-1.815592</td>\n",
       "      <td>-1.109736</td>\n",
       "    </tr>\n",
       "    <tr>\n",
       "      <th>32</th>\n",
       "      <td>Southeast</td>\n",
       "      <td>-5.097503</td>\n",
       "      <td>-1.898865</td>\n",
       "    </tr>\n",
       "    <tr>\n",
       "      <th>33</th>\n",
       "      <td>SouthCentral</td>\n",
       "      <td>-1.217190</td>\n",
       "      <td>-1.088508</td>\n",
       "    </tr>\n",
       "    <tr>\n",
       "      <th>46</th>\n",
       "      <td>Plains</td>\n",
       "      <td>-1.622128</td>\n",
       "      <td>-1.491515</td>\n",
       "    </tr>\n",
       "    <tr>\n",
       "      <th>51</th>\n",
       "      <td>TotalUS</td>\n",
       "      <td>-18.406334</td>\n",
       "      <td>0.444309</td>\n",
       "    </tr>\n",
       "    <tr>\n",
       "      <th>53</th>\n",
       "      <td>West</td>\n",
       "      <td>-1.740973</td>\n",
       "      <td>-1.917137</td>\n",
       "    </tr>\n",
       "  </tbody>\n",
       "</table>\n",
       "</div>"
      ],
      "text/plain": [
       "                Region  PED Conventional  PED Organic\n",
       "1            Northeast          6.451289    -2.127297\n",
       "6             Midsouth         -2.428041    -2.159980\n",
       "11  NorthernNewEngland         -1.815592    -1.109736\n",
       "32           Southeast         -5.097503    -1.898865\n",
       "33        SouthCentral         -1.217190    -1.088508\n",
       "46              Plains         -1.622128    -1.491515\n",
       "51             TotalUS        -18.406334     0.444309\n",
       "53                West         -1.740973    -1.917137"
      ]
     },
     "execution_count": 116,
     "metadata": {},
     "output_type": "execute_result"
    }
   ],
   "source": [
    "ped_regional_df"
   ]
  },
  {
   "attachments": {},
   "cell_type": "markdown",
   "metadata": {},
   "source": [
    "# Applying causal machine learning to estimate price elasticity of demand\n",
    "We need to divide our data into a few pieces for this.\n",
    "- Treatment: the average price of avocados\n",
    "- Outcome: the sales volume\n",
    "- W, confounders: things that affect both the price and the outcome. E.g. the season, cost of fuel, cost of wheat/flour etc.\n",
    "- X, "
   ]
  },
  {
   "cell_type": "code",
   "execution_count": 185,
   "metadata": {},
   "outputs": [],
   "source": [
    "# Import gasoline data as confounder\n",
    "gasoline_pd = pd.read_csv('data/gasoline_monthly_usa_FRED.csv')\n",
    "gasoline_pd['DATE'] = pd.to_datetime(gasoline_pd['DATE'])"
   ]
  },
  {
   "cell_type": "code",
   "execution_count": 186,
   "metadata": {},
   "outputs": [],
   "source": [
    "# Convert date to year and month\n",
    "gasoline_pd['year_month'] = (gasoline_pd['DATE'].dt.year.astype(str) + \n",
    "                             gasoline_pd['DATE'].dt.month.astype(str))\n",
    "\n",
    "# Do the same for the avocado data\n",
    "data_pd['year_month'] = (data_pd['Date'].dt.year.astype(str) + \n",
    "                         data_pd['Date'].dt.month.astype(str))"
   ]
  },
  {
   "cell_type": "code",
   "execution_count": 187,
   "metadata": {},
   "outputs": [],
   "source": [
    "# Join the gas price index based on date to the main df and clean up names\n",
    "data_pd = (data_pd.merge(gasoline_pd, on='year_month')\n",
    "                  .rename(columns={'CUUR0000SETB01': 'gas_index'}))"
   ]
  },
  {
   "cell_type": "code",
   "execution_count": 132,
   "metadata": {},
   "outputs": [],
   "source": [
    "# Sample data for specific region and type for model fitting\n",
    "model_data_pd = (\n",
    "    data_pd[(data_pd['region'] == 'NewYork') &\n",
    "            (data_pd['type'] == 'conventional')]\n",
    "            [['avg_price_lb', 'volume_lb', 'gas_index', 'year_month']])"
   ]
  },
  {
   "cell_type": "code",
   "execution_count": 170,
   "metadata": {},
   "outputs": [],
   "source": [
    "from econml.dml import LinearDML\n",
    "from xgboost import XGBRegressor"
   ]
  },
  {
   "cell_type": "code",
   "execution_count": 220,
   "metadata": {},
   "outputs": [],
   "source": [
    "# Separate data into outcome, treatment, predictors and confounders\n",
    "# Using the natural logarithm, so we can assume a linear relationship\n",
    "# see: LQ = K + E x LP (https://en.wikipedia.org/wiki/Price_elasticity_of_demand)\n",
    "y = np.log(model_data_pd['volume_lb'])\n",
    "T = np.log(model_data_pd['avg_price_lb'])\n",
    "X = model_data_pd[['year_month']].astype(int)\n",
    "W = model_data_pd[['gas_index']].astype(float)"
   ]
  },
  {
   "cell_type": "code",
   "execution_count": 221,
   "metadata": {},
   "outputs": [
    {
     "data": {
      "text/plain": [
       "<econml.dml.dml.LinearDML at 0x23acc99d0a0>"
      ]
     },
     "execution_count": 221,
     "metadata": {},
     "output_type": "execute_result"
    }
   ],
   "source": [
    "# Create the estimator using XGBoost regressor as the underlying model\n",
    "# I'm choosing XGBoost since it's fairly robust out of the box and is a\n",
    "# tree-based method, so I don't need to do any normalization/scaling of the inputs\n",
    "est = (LinearDML(\n",
    "    model_y=XGBRegressor(),\n",
    "    model_t=XGBRegressor(),\n",
    "    random_state=42\n",
    "))\n",
    "est.fit(y, T, X=X, W=W)\n"
   ]
  },
  {
   "cell_type": "code",
   "execution_count": 222,
   "metadata": {},
   "outputs": [
    {
     "data": {
      "text/plain": [
       "-1.6444725975223276"
      ]
     },
     "execution_count": 222,
     "metadata": {},
     "output_type": "execute_result"
    }
   ],
   "source": [
    "est.const_marginal_effect(X).mean()"
   ]
  }
 ],
 "metadata": {
  "kernelspec": {
   "display_name": "pricing",
   "language": "python",
   "name": "python3"
  },
  "language_info": {
   "codemirror_mode": {
    "name": "ipython",
    "version": 3
   },
   "file_extension": ".py",
   "mimetype": "text/x-python",
   "name": "python",
   "nbconvert_exporter": "python",
   "pygments_lexer": "ipython3",
   "version": "3.8.16"
  },
  "orig_nbformat": 4
 },
 "nbformat": 4,
 "nbformat_minor": 2
}
